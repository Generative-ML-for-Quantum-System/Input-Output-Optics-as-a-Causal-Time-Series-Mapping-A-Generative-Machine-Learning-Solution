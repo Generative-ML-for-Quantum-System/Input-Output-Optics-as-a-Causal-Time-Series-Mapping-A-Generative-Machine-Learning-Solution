{
 "cells": [
  {
   "cell_type": "markdown",
   "id": "abee226d",
   "metadata": {},
   "source": [
    "### Data Complexity Calculation"
   ]
  },
  {
   "cell_type": "markdown",
   "id": "4e66fc46",
   "metadata": {},
   "source": [
    "### Data Complexity Calculation "
   ]
  },
  {
   "cell_type": "code",
   "execution_count": 1,
   "id": "a1f64722",
   "metadata": {},
   "outputs": [],
   "source": [
    "import numpy as np\n",
    "import matplotlib.pyplot as plt\n",
    "from qutip import *\n",
    "from tqdm.notebook import tqdm\n",
    "import matplotlib.pyplot as plt\n",
    "import sklearn\n",
    "from sklearn.model_selection import train_test_split\n",
    "from sklearn.linear_model import LinearRegression\n",
    "from sklearn.metrics import r2_score, mean_squared_error, mean_absolute_error\n",
    "from sklearn.linear_model import Ridge, Lasso\n",
    "from sklearn.preprocessing import PolynomialFeatures"
   ]
  },
  {
   "cell_type": "code",
   "execution_count": 21,
   "id": "2b66e316",
   "metadata": {},
   "outputs": [
    {
     "data": {
      "text/plain": [
       "array([ 1. ,  1.5,  2. ,  2.5,  3. ,  3.5,  4. ,  4.5,  5. ,  5.5,  6. ,\n",
       "        6.5,  7. ,  7.5,  8. ,  8.5,  9. ,  9.5, 10. ])"
      ]
     },
     "execution_count": 21,
     "metadata": {},
     "output_type": "execute_result"
    }
   ],
   "source": [
    "F0 = np.arange(1, 10.5, 0.5)\n",
    "N = 10\n",
    "Jz = 0.8* np.linspace(0.98, 1, N)\n",
    "\n",
    "F0"
   ]
  },
  {
   "cell_type": "markdown",
   "id": "3df9f553-d726-490d-8fb0-6328e9e57fe2",
   "metadata": {},
   "source": [
    "# The following blocks of code are responsible for generating data for Hamiltonian given in Eq (1) for various amplitudes between 1 and 10. Note that amplitude = 1 corresponds to **Case 1** in the paper while amplitude = 10 corresponds to **Case 2**. "
   ]
  },
  {
   "cell_type": "code",
   "execution_count": null,
   "id": "8903788d",
   "metadata": {},
   "outputs": [],
   "source": [
    "\n",
    "h_alt = np.ones(N) #implies same field at all sites\n",
    "\n",
    "\n",
    "\n",
    "# Setup operators for individual qubits\n",
    "sx_list, sy_list, sz_list = [], [], [] #we need to fill them with required tensor product operators as per the dimentions\n",
    "for i in range(N):\n",
    "    op_list = [qeye(2)] * N # creates a list of N identities\n",
    "    op_list[i] = 1/2 * sigmax() # replaces the ith list with sigma and in the next step does the tensor product\n",
    "    sx_list.append(tensor(op_list)) \n",
    "    op_list[i] = 1/2 * sigmay()\n",
    "    sy_list.append(tensor(op_list))\n",
    "    op_list[i] = 1/2 * sigmaz()\n",
    "    sz_list.append(tensor(op_list))\n",
    "\n",
    "# Hamiltonian - Energy splitting terms\n",
    "V_target=0\n",
    "H_alt = 0\n",
    "for i in range(N):\n",
    "    V_target -=  h_alt[i] * sx_list[i] #the extra term with magnetic field is kept under V_target\n",
    "\n",
    "# Interaction terms\n",
    "for n in range(N - 1):\n",
    "\n",
    "    H_alt +=  -Jz[n] * sz_list[n] * sz_list[n + 1]\n",
    "\n",
    "# the periodic boundary condition\n",
    "H_alt +=  -Jz[-1] * sz_list[-1] * sz_list[0]\n",
    "\n",
    "H0_target = H_alt\n",
    "H0_target.eigenenergies()\n",
    "\n",
    "E, V = H0_target.eigenstates()\n",
    "\n",
    "ψ0  = V[0]\n",
    "\n",
    "full_ω = np.linspace(0.55, (E[-1] - E[0])+0.3, 200)\n",
    "t = np.linspace(0, 2 * np.pi / full_ω[0], 512)"
   ]
  },
  {
   "cell_type": "code",
   "execution_count": 5,
   "id": "d916acaf",
   "metadata": {},
   "outputs": [],
   "source": [
    "Y=[]\n",
    "\n",
    "for i in F0:\n",
    "    Y1 = [sesolve([H0_target, [V_target, i * np.sin(ω * t)]], ψ0, t, e_ops=[V_target,]).expect[0].reshape(-1, 1)\n",
    "        for ω in full_ω ]  \n",
    "    Y.append(Y1)\n",
    "\n",
    "\n",
    "Y = np.array(Y)"
   ]
  },
  {
   "cell_type": "markdown",
   "id": "efad0624-e77f-4bde-8b8d-5aa237f51df8",
   "metadata": {},
   "source": [
    "Note that Y contains output data for all amplitiudes."
   ]
  },
  {
   "cell_type": "code",
   "execution_count": null,
   "id": "9c920921",
   "metadata": {},
   "outputs": [],
   "source": [
    "np.save('Y_data_amp_full.npy', Y)"
   ]
  },
  {
   "cell_type": "code",
   "execution_count": 7,
   "id": "2e6eba01",
   "metadata": {},
   "outputs": [
    {
     "data": {
      "text/plain": [
       "(19, 200, 512, 1)"
      ]
     },
     "execution_count": 7,
     "metadata": {},
     "output_type": "execute_result"
    }
   ],
   "source": [
    "Y = np.load('Y_data_amp_full.npy',  allow_pickle=True)\n",
    "Y.shape"
   ]
  },
  {
   "cell_type": "markdown",
   "id": "06d653c2",
   "metadata": {},
   "source": [
    "# The following code calculates mean Pnorm values for each amplitude as in $F_{0}$ for integrable Hamiltonians."
   ]
  },
  {
   "cell_type": "code",
   "execution_count": 24,
   "id": "d892f0e0",
   "metadata": {},
   "outputs": [
    {
     "name": "stdout",
     "output_type": "stream",
     "text": [
      "Mean Complexity for Amplitude = 1.0:  0.12690055161420347\n",
      "Mean Complexity for Amplitude = 1.5:  0.13140576343016275\n",
      "Mean Complexity for Amplitude = 2.0:  0.13448668142369208\n",
      "Mean Complexity for Amplitude = 2.5:  0.1381827593788814\n",
      "Mean Complexity for Amplitude = 3.0:  0.14386957493121397\n",
      "Mean Complexity for Amplitude = 3.5:  0.15026426878803098\n",
      "Mean Complexity for Amplitude = 4.0:  0.15556565102995448\n",
      "Mean Complexity for Amplitude = 4.5:  0.1597569103930722\n",
      "Mean Complexity for Amplitude = 5.0:  0.1643678551161095\n",
      "Mean Complexity for Amplitude = 5.5:  0.16942163314027409\n",
      "Mean Complexity for Amplitude = 6.0:  0.17622071734062866\n",
      "Mean Complexity for Amplitude = 6.5:  0.18206684043114912\n",
      "Mean Complexity for Amplitude = 7.0:  0.18583411519708126\n",
      "Mean Complexity for Amplitude = 7.5:  0.18886470963742752\n",
      "Mean Complexity for Amplitude = 8.0:  0.19252091087165227\n",
      "Mean Complexity for Amplitude = 8.5:  0.19636090240455303\n",
      "Mean Complexity for Amplitude = 9.0:  0.19993122873654742\n",
      "Mean Complexity for Amplitude = 9.5:  0.2037228586349139\n",
      "Mean Complexity for Amplitude = 10.0:  0.20794589535148547\n"
     ]
    }
   ],
   "source": [
    "import EntropyHub as EH\n",
    "complexity = []\n",
    "for i in range(Y.shape[0]):\n",
    "    s = []\n",
    "    for j in range(Y.shape[1]):\n",
    "        \n",
    "        Z = Y[i,j,:]\n",
    "\n",
    "        Perm, Pnorm, cPE = EH.PermEn(Z, m = 4, tau = 1, Typex = 'ampaware',\n",
    "                                    tpx = 1, Logx = 10, Norm = False)\n",
    "        s.append(Pnorm[3])\n",
    "        \n",
    "    complexity.append(np.mean(np.array(s)))\n",
    "    print('Mean Complexity for Amplitude = {}: '.format(F0[i]), complexity[i])\n",
    "        "
   ]
  },
  {
   "cell_type": "markdown",
   "id": "837ef870-e02e-41bb-881f-a5fab1561de6",
   "metadata": {},
   "source": [
    "Similarly, for **Case 3**, with an amplitude $F_0 = 1.5$, the mean pnorm value, representing the complexity measure, was found to be **0.13844745508507483** and for **Case 4**, with an amplitude $F_0 = 2.5$, the mean pnorm value was calculated as **0.14441512522938718**."
   ]
  },
  {
   "cell_type": "code",
   "execution_count": null,
   "id": "826bb398",
   "metadata": {},
   "outputs": [
    {
     "data": {
      "image/png": "[encoded data removed]",
      "text/plain": [
       "<Figure size 800x500 with 1 Axes>"
      ]
     },
     "metadata": {},
     "output_type": "display_data"
    }
   ],
   "source": [
    "import matplotlib.pyplot as plt\n",
    "\n",
    "# Data for the plot\n",
    "amplitude = F0.tolist()\n",
    "mean_pnorm = complexity\n",
    "\n",
    "# The mean complexity amplitude for the case 3 & 4 are similarly calculated and are given below.\n",
    "h_non_int_points = [0.13844745508507483, 0.14441512522938718]  # Selected y-values\n",
    "h_non_int_amplitude = [1.5, 2.5]  # Corresponding x-coordinates\n",
    "\n",
    "# Plotting\n",
    "plt.figure(figsize=(8, 5))\n",
    "plt.scatter(amplitude, mean_pnorm, color='blue', label=r'$H_t$', s=40)\n",
    "plt.scatter(h_non_int_amplitude, h_non_int_points, color='red', label=r'$H_{\\mathrm{non\\text{-}int}}$', s=40)\n",
    "\n",
    "# Labels and legend\n",
    "plt.xlabel('Amplitude', fontsize=12)\n",
    "plt.ylabel('Mean Pnorm', fontsize=12)\n",
    "plt.legend(fontsize=10)\n",
    "plt.grid(True)\n",
    "plt.show()\n"
   ]
  }
 ],
 "metadata": {
  "kernelspec": {
   "display_name": "Python 3 (ipykernel)",
   "language": "python",
   "name": "python3"
  },
  "language_info": {
   "codemirror_mode": {
    "name": "ipython",
    "version": 3
   },
   "file_extension": ".py",
   "mimetype": "text/x-python",
   "name": "python",
   "nbconvert_exporter": "python",
   "pygments_lexer": "ipython3",
   "version": "3.12.7"
  }
 },
 "nbformat": 4,
 "nbformat_minor": 5
}
